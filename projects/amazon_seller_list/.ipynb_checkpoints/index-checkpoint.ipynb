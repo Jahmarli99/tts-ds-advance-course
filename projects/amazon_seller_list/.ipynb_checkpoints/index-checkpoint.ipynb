{
 "cells": [
  {
   "cell_type": "markdown",
   "metadata": {},
   "source": [
    "# [Table Of Contents](../index.ipynb)\n",
    "### Data Science Advanced Topics\n",
    "- - - \n",
    "<!--NAVIGATION-->\n",
    "Real World Projects: **[Amazon Seller List](../amazon_seller_list/index.ipynb)** | [AI-Writer](../aiwriter/index.ipynb) | [Sports Wagering Analytics](../sports-wagering/index.ipynb) | [eGaming Social Media Analytics](https://github.com/enterlifeonline/hongkonguniversity) "
   ]
  },
  {
   "cell_type": "markdown",
   "metadata": {},
   "source": [
    "## Amazon Seller List"
   ]
  },
  {
   "cell_type": "code",
   "execution_count": 2,
   "metadata": {},
   "outputs": [],
   "source": [
    "import requests\n",
    "from lxml import html\n",
    "from lxml.etree import ParserError\n",
    "import json\n",
    "from time import sleep\n",
    "import argparse\n",
    "import unicodecsv as csv\n",
    "import traceback"
   ]
  },
  {
   "cell_type": "code",
   "execution_count": 3,
   "metadata": {},
   "outputs": [
    {
     "name": "stderr",
     "output_type": "stream",
     "text": [
      "usage: ipykernel_launcher.py [-h] asin condition shipping\n",
      "ipykernel_launcher.py: error: the following arguments are required: condition, shipping\n"
     ]
    },
    {
     "ename": "SystemExit",
     "evalue": "2",
     "output_type": "error",
     "traceback": [
      "An exception has occurred, use %tb to see the full traceback.\n",
      "\u001b[0;31mSystemExit\u001b[0m\u001b[0;31m:\u001b[0m 2\n"
     ]
    },
    {
     "name": "stderr",
     "output_type": "stream",
     "text": [
      "/usr/local/anaconda3/lib/python3.8/site-packages/IPython/core/interactiveshell.py:3426: UserWarning: To exit: use 'exit', 'quit', or Ctrl-D.\n",
      "  warn(\"To exit: use 'exit', 'quit', or Ctrl-D.\", stacklevel=1)\n"
     ]
    }
   ],
   "source": [
    "def parse_offer_details(url):\n",
    "    '''\n",
    "    Function to parse seller details from amazon offer listing page\n",
    "    eg:https://www.amazon.com/gp/offer-listing/\n",
    "    :param url:offer listing url\n",
    "    :rtype: seller details as json\n",
    "    '''\n",
    "    # Add some recent user agent to prevent blocking from amazon\n",
    "    headers = {\n",
    "                'user-agent': 'Mozilla/5.0 (X11; Linux x86_64) AppleWebKit/537.36 (KHTML, like Gecko) Chrome/67.0.3396.99 Safari/537.36'\n",
    "    }\n",
    "\n",
    "    for retry in range(5):\n",
    "        try:\n",
    "            print(\"Downloading and processing page :\", url)\n",
    "            response = requests.get(url, headers=headers)\n",
    "            if response.status_code == 403:\n",
    "                raise ValueError(\"Captcha found. Retrying\")\n",
    "\n",
    "            response_text = response.text\n",
    "            parser = html.fromstring(response_text)\n",
    "            base_url = \"https://www.amazon.com/\"\n",
    "            parser.make_links_absolute(base_url)\n",
    "            XPATH_PRODUCT_LISTINGS = \"//div[contains(@class, 'a-row a-spacing-mini olpOffer')]\"\n",
    "            # Parsing seller list\n",
    "            listings = parser.xpath(XPATH_PRODUCT_LISTINGS)\n",
    "            offer_list = []\n",
    "\n",
    "            if not listings:\n",
    "                print(\"no sellers found\")\n",
    "                return offer_list\n",
    "\n",
    "            # parsing individual seller\n",
    "            for listing in listings:\n",
    "                XPATH_PRODUCT_PRICE = \".//span[contains(@class, 'olpOfferPrice')]//text()\"\n",
    "                XPATH_PRODUCT_PRIME = \".//i/@aria-label\"\n",
    "                XPATH_PRODUCT_SHIPPING = \".//p[contains(@class, 'olpShippingInfo')]//text()\"\n",
    "                XPATH_PRODUCT_CONDITION = \".//span[contains(@class, 'olpCondition')]//text()\"\n",
    "                XPATH_PRODUCT_DELIVERY = \".//div[contains(@class, 'olpDeliveryColumn')]//text()\"\n",
    "                XPATH_PRODUCT_SELLER1 = \".//h3[contains(@class, 'olpSellerName')]//a/text()\"\n",
    "                XPATH_PRODUCT_SELLER2 = \".//h3[contains(@class, 'olpSellerName')]//img//@alt\"\n",
    "                XPATH_PRODUCT_SELLER_RATTING = \".//div[contains(@class, 'olpSellerColumn')]//span[contains(@class, 'a-icon-alt')]//text()\"\n",
    "                XPATH_PRODUCT_SELLER_PERCENTAGE = \".//div[contains(@class, 'olpSellerColumn')]//b/text()\"\n",
    "                XPATH_PRODUCT_SELLER_URL = \".//h3[contains(@class, 'olpSellerName')]//a/@href\"\n",
    "                \n",
    "                product_price = listing.xpath(XPATH_PRODUCT_PRICE)\n",
    "                product_price = product_price[0].strip()\n",
    "                product_prime = listing.xpath(XPATH_PRODUCT_PRIME)\n",
    "                product_condition = listing.xpath(XPATH_PRODUCT_CONDITION)\n",
    "                product_shipping = listing.xpath(XPATH_PRODUCT_SHIPPING)\n",
    "                delivery = listing.xpath(XPATH_PRODUCT_DELIVERY)\n",
    "                seller1 = listing.xpath(XPATH_PRODUCT_SELLER1)\n",
    "                seller2 = listing.xpath(XPATH_PRODUCT_SELLER2)\n",
    "                seller_ratting =listing.xpath(XPATH_PRODUCT_SELLER_RATTING)\n",
    "                seller_percentage = listing.xpath(XPATH_PRODUCT_SELLER_PERCENTAGE)\n",
    "                seller_url = listing.xpath(XPATH_PRODUCT_SELLER_URL)\n",
    "\n",
    "                # cleaning parsed data\n",
    "                product_prime = product_prime[0].strip() if product_prime else None\n",
    "                product_condition = ''.join(''.join(product_condition).split()) if product_condition else None\n",
    "                product_shipping_details = ' '.join(''.join(product_shipping).split()).lstrip(\"&\").rstrip(\"Details\") if product_shipping else None\n",
    "                cleaned_delivery = ' '.join(''.join(delivery).split()).replace(\"Shipping rates and return policy.\", \"\").strip() if delivery else None\n",
    "                product_seller = ''.join(seller1).strip() if seller1 else ''.join(seller2).strip()\n",
    "                seller_ratting = seller_ratting[0].split()[0].strip() if seller_ratting else None\n",
    "                seller_percentage = seller_percentage[0].strip() if seller_percentage else None\n",
    "                seller_url = seller_url[0].strip() if seller_url else None\n",
    "\n",
    "                offer_details = {\n",
    "                                'price': product_price,\n",
    "                                'shipping_detais': product_shipping_details,\n",
    "                                'condition': product_condition,\n",
    "                                'prime': product_prime,\n",
    "                                'delivery': cleaned_delivery,\n",
    "                                'seller': product_seller,\n",
    "                                'seller_rating':seller_ratting,\n",
    "                                'seller_percentage': seller_percentage,\n",
    "                                'seller_url':seller_url,\n",
    "                                'asin': asin,\n",
    "                                'url': url\n",
    "                }\n",
    "                offer_list.append(offer_details)\n",
    "            return offer_list\n",
    "\n",
    "        except ParserError:\n",
    "            print(\"empty page found\")\n",
    "            break\n",
    "        except:\n",
    "            print(traceback.format_exc())\n",
    "            print(\"retying :\", url)\n",
    "        \n",
    "if __name__ == '__main__':\n",
    "    # defining arguments   \n",
    "    parser = argparse.ArgumentParser()\n",
    "    parser.add_argument('asin', help='unique product id, eg \"B01DQ2B8UY\"')\n",
    "    parser.add_argument('condition', help='product condition eg \"new\", \"used\", \"all\", \"like_new\", \"verygood\", \"acceptable\", \"good\"', default=\"all\")\n",
    "    parser.add_argument('shipping', help='product shipping eg \"prime\", \"all\"', default=\"all\")\n",
    "    args = parser.parse_args()\n",
    "    asin = args.asin\n",
    "    condition = args.condition\n",
    "    shipping = args.shipping\n",
    "\n",
    "    # for creating url according to the filter applied\n",
    "    condition_dict = {'new': '&f_new=true',\n",
    "                    'used': '&f_used=true',\n",
    "                    'all': '&condition=all',\n",
    "                    'like_new': '&f_usedLikeNew=true',\n",
    "                    'good': '&f_usedGood=true',\n",
    "                    'verygood': '&f_usedVeryGood=true',\n",
    "                    'acceptable': 'f_usedAcceptable=true'\n",
    "    }\n",
    "    shipping_dict = {'prime': '&f_primeEligible=true',\n",
    "                    'all': '&shipping=all'\n",
    "    }\n",
    "\n",
    "    url = 'https://www.amazon.com/gp/offer-listing/'+asin+'/ref='+condition_dict.get(condition)+shipping_dict.get(shipping)\n",
    "    data = parse_offer_details(url)\n",
    "    \n",
    "    if data:\n",
    "        print ('Writing results to  the file: ', asin, '-sellers.csv')\n",
    "        with open(asin+'-sellers.csv', 'wb')as csvfile:\n",
    "            fieldnames = ['seller', 'seller_rating', 'seller_percentage', 'price', 'prime', 'condition', 'shipping_detais', 'delivery', 'seller_url','url', 'asin']\n",
    "            writer = csv.DictWriter(csvfile, fieldnames=fieldnames, quoting=csv.QUOTE_ALL)\n",
    "            writer.writeheader()\n",
    "            for row in  data:\n",
    "                writer.writerow(row)"
   ]
  },
  {
   "cell_type": "markdown",
   "metadata": {},
   "source": [
    "#### Running the Scraper\n",
    "\n",
    "We will execute the script to get the offer listing of the ASIN B01DQ2B8UY:\n",
    "\n",
    "```\n",
    "python3 amazon-seller-list ASIN condition shipping\n",
    "\n",
    "python3 amazon-seller-list B01DQ2B8UY \"new\" \"prime\"\n",
    "```"
   ]
  },
  {
   "cell_type": "code",
   "execution_count": null,
   "metadata": {},
   "outputs": [],
   "source": []
  }
 ],
 "metadata": {
  "kernelspec": {
   "display_name": "Python 3 (ipykernel)",
   "language": "python",
   "name": "python3"
  },
  "language_info": {
   "codemirror_mode": {
    "name": "ipython",
    "version": 3
   },
   "file_extension": ".py",
   "mimetype": "text/x-python",
   "name": "python",
   "nbconvert_exporter": "python",
   "pygments_lexer": "ipython3",
   "version": "3.9.7"
  }
 },
 "nbformat": 4,
 "nbformat_minor": 4
}
