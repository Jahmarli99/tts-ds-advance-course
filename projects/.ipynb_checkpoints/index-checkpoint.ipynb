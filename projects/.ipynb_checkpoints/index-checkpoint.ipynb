{
 "cells": [
  {
   "cell_type": "markdown",
   "id": "ba7f6a1b",
   "metadata": {},
   "source": [
    "# [Table Of Contents](../index.ipynb)\n",
    "### Data Science Advanced Topics"
   ]
  },
  {
   "cell_type": "markdown",
   "id": "e824d16b",
   "metadata": {},
   "source": [
    "## [Data Science Advanced: Python](../index.ipynb) \n",
    "\n",
    "Python is an interpreted, high-level, general-purpose programming language. Created by Guido van Rossum and first released in 1991, Python's design philosophy emphasizes code readability with its notable use of significant whitespace."
   ]
  },
  {
   "cell_type": "markdown",
   "id": "a1c4f755",
   "metadata": {},
   "source": [
    "- - - \n",
    "\n",
    "## [Real World Projects](./index.ipynb)"
   ]
  },
  {
   "cell_type": "markdown",
   "id": "a7519f46",
   "metadata": {},
   "source": [
    "- [Amazon Seller List](/amazon_seller_list/index.ipynb) \n",
    "- [AI-Writer](/aiwriter/index.ipynb) \n",
    "- [Sports Wagering Analytics](/sports-wagering/index.ipynb)\n",
    "- [eGaming Social Media Analytics](https://github.com/enterlifeonline/hongkonguniversity) "
   ]
  },
  {
   "cell_type": "code",
   "execution_count": null,
   "id": "53c82abd",
   "metadata": {},
   "outputs": [],
   "source": []
  }
 ],
 "metadata": {
  "kernelspec": {
   "display_name": "Python 3 (ipykernel)",
   "language": "python",
   "name": "python3"
  },
  "language_info": {
   "codemirror_mode": {
    "name": "ipython",
    "version": 3
   },
   "file_extension": ".py",
   "mimetype": "text/x-python",
   "name": "python",
   "nbconvert_exporter": "python",
   "pygments_lexer": "ipython3",
   "version": "3.9.7"
  }
 },
 "nbformat": 4,
 "nbformat_minor": 5
}
